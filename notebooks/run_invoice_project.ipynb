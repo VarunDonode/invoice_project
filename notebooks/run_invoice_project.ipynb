{
 "cells": [
  {
   "cell_type": "code",
   "execution_count": null,
   "id": "10474ba9",
   "metadata": {
    "vscode": {
     "languageId": "plaintext"
    }
   },
   "outputs": [],
   "source": [
    "!git clone https://github.com/<your-username>/invoice_extractor.git\n",
    "%cd invoice_extractor\n",
    "\n",
    "!pip install -r requirements.txt"
   ]
  },
  {
   "cell_type": "code",
   "execution_count": null,
   "id": "5e1332bd",
   "metadata": {
    "vscode": {
     "languageId": "plaintext"
    }
   },
   "outputs": [],
   "source": [
    "from google.colab import drive\n",
    "drive.mount('/content/drive')"
   ]
  },
  {
   "cell_type": "code",
   "execution_count": null,
   "id": "35726ecf",
   "metadata": {
    "vscode": {
     "languageId": "plaintext"
    }
   },
   "outputs": [],
   "source": [
    "img_path = '/content/drive/MyDrive/invoice_dataset/my_invoice_1.jpg'"
   ]
  },
  {
   "cell_type": "code",
   "execution_count": null,
   "id": "ddeb1011",
   "metadata": {
    "vscode": {
     "languageId": "plaintext"
    }
   },
   "outputs": [],
   "source": [
    "!python main.py --img_path \"$img_path\""
   ]
  },
  {
   "cell_type": "code",
   "execution_count": null,
   "id": "878013f1",
   "metadata": {
    "vscode": {
     "languageId": "plaintext"
    }
   },
   "outputs": [],
   "source": [
    "from enhancer import ImageEnhancer\n",
    "from model import VisionModel\n",
    "from extractor import InvoiceExtractor\n",
    "\n",
    "enhancer = ImageEnhancer()\n",
    "vision_model = VisionModel()\n",
    "extractor = InvoiceExtractor(enhancer, vision_model)\n",
    "\n",
    "result = extractor.extract(img_path)\n",
    "print(\"\\n--- Extracted Invoice Fields ---\\n\")\n",
    "print(result)"
   ]
  }
 ],
 "metadata": {
  "language_info": {
   "name": "python"
  }
 },
 "nbformat": 4,
 "nbformat_minor": 5
}
